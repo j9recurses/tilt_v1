{
 "metadata": {
  "name": "",
  "signature": "sha256:e5f4d1afb02aae0270d9b071c89330c3176a662b58f853f58201c6ae8d8085f7"
 },
 "nbformat": 3,
 "nbformat_minor": 0,
 "worksheets": [
  {
   "cells": [
    {
     "cell_type": "code",
     "collapsed": false,
     "input": [
      "#!/usr/bin/python\n",
      "\n",
      "import threading\n",
      "import time\n",
      "\n",
      "pilltaken  = False\n",
      "patientpush = False\n",
      "caretakerpush = False\n",
      "counterpill = 0\n",
      "\n",
      "def update_pill(threadName, delay):\n",
      "  if counterpill%5:\n",
      "      pilltaken = True\n",
      "      counterpill = counterpill +1\n",
      "      time.sleep(delay)\n",
      "      print threadName\n",
      "      \n",
      "\n",
      "def checkpillstatus(threadName, delay):\n",
      "  if pilltaken:\n",
      "    print \"Awesome the user took their meds\"\n",
      "    time.sleep(delay)\n",
      "    print threadName\n",
      "  else:\n",
      "    print \"user did not take meds\""
     ],
     "language": "python",
     "metadata": {},
     "outputs": [
      {
       "ename": "SyntaxError",
       "evalue": "EOL while scanning string literal (<ipython-input-3-d4dd56a8b232>, line 25)",
       "output_type": "pyerr",
       "traceback": [
        "\u001b[1;36m  File \u001b[1;32m\"<ipython-input-3-d4dd56a8b232>\"\u001b[1;36m, line \u001b[1;32m25\u001b[0m\n\u001b[1;33m    print \"user did not take meds\u001b[0m\n\u001b[1;37m                                ^\u001b[0m\n\u001b[1;31mSyntaxError\u001b[0m\u001b[1;31m:\u001b[0m EOL while scanning string literal\n"
       ]
      }
     ],
     "prompt_number": 3
    },
    {
     "cell_type": "code",
     "collapsed": false,
     "input": [
      "th = threading.Thread(target=checkpillstatus('thread_1', 2))\n",
      "th.daemon = True\n",
      "th.start()"
     ],
     "language": "python",
     "metadata": {},
     "outputs": [],
     "prompt_number": 2
    },
    {
     "cell_type": "code",
     "collapsed": false,
     "input": [],
     "language": "python",
     "metadata": {},
     "outputs": []
    }
   ],
   "metadata": {}
  }
 ]
}