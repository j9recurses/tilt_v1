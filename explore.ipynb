{
 "metadata": {
  "name": "",
  "signature": "sha256:63accc84cbe30d393857d3cdca0840e2eaed3437fd0545049ca0e7497580ba53"
 },
 "nbformat": 3,
 "nbformat_minor": 0,
 "worksheets": [
  {
   "cells": [
    {
     "cell_type": "code",
     "collapsed": false,
     "input": [
      "import numpy as np\n",
      "import pandas as pd\n",
      "from sklearn.utils import shuffle"
     ],
     "language": "python",
     "metadata": {},
     "outputs": [],
     "prompt_number": 1
    },
    {
     "cell_type": "code",
     "collapsed": false,
     "input": [
      "data = []\n",
      "\n",
      "with open(\"data.txt\", \"r\") as f:\n",
      "    for line in f:\n",
      "        data.append(line.split())\n",
      "\n",
      "\n",
      "currentVal = \"0\"\n",
      "sensorValues = []\t# list of segmented sensor readings\n",
      "y = []\n",
      "event = []\n",
      "Xheader = [\"AcX\", \"AcY\", \"AcZ\", \"GyX\", \"GyY\", \"GyZ\"]\n",
      "Yheader = [\"labels\"]\n",
      "\n",
      "\n",
      "for row in data[1:]:\n",
      "    if row[0] == currentVal:\n",
      "        event.append(row[1:])\n",
      "    else:\n",
      "        if row[0] == \"1\":\n",
      "            sensorValues.append(event)\n",
      "            y.append(0)\n",
      "        if row[0] == \"0\":\n",
      "            sensorValues.append(event)\n",
      "            y.append(1)\n",
      "        currentVal = row[0]\n",
      "        event = []"
     ],
     "language": "python",
     "metadata": {},
     "outputs": [],
     "prompt_number": 20
    },
    {
     "cell_type": "code",
     "collapsed": false,
     "input": [
      "def feature_extract(segment):\n",
      "    \"\"\" Input: A slice of sensor data stream; list of lists ([ [s1,s2,s3,s4,s5,s6], ...  ]) [114 X 6]\n",
      "        Output: np array feature matrix\n",
      "    \"\"\"\n",
      "    array = np.array(segment).astype(float)\n",
      "    m = np.mean(array, 0)    # returns an array of means\n",
      "    v = np.var(array, 0)     # returns an array of variances\n",
      "    features = np.append(m,v)    # creates a [1 X 12] array\n",
      "    return features\n",
      "    "
     ],
     "language": "python",
     "metadata": {},
     "outputs": [],
     "prompt_number": 44
    },
    {
     "cell_type": "code",
     "collapsed": false,
     "input": [
      "featureList = []\n",
      "\n",
      "for event in sensorValues:\n",
      "    featureList.append(feature_extract(event))\n",
      "\n",
      "X = np.array(featureList)\n",
      "print X[0]"
     ],
     "language": "python",
     "metadata": {},
     "outputs": [
      {
       "output_type": "stream",
       "stream": "stdout",
       "text": [
        "[  6.89770492e+02   6.90950820e+02  -1.73757377e+04  -1.36918033e+02\n",
        "   1.06163934e+02  -3.20606557e+02   1.68943765e+06   1.67280257e+06\n",
        "   1.17290432e+06   7.84820126e+06   4.21714869e+06   6.11777985e+06]\n"
       ]
      }
     ],
     "prompt_number": 48
    },
    {
     "cell_type": "code",
     "collapsed": false,
     "input": [
      "print \"X shape: \", X.shape\n",
      "print \"y shape: \", len(y)"
     ],
     "language": "python",
     "metadata": {},
     "outputs": [
      {
       "output_type": "stream",
       "stream": "stdout",
       "text": [
        "X shape:  (114, 12)\n",
        "y shape:  114\n"
       ]
      }
     ],
     "prompt_number": 49
    },
    {
     "cell_type": "code",
     "collapsed": false,
     "input": [
      "from sklearn import linear_model as lm\n",
      "from sklearn.cross_validation import train_test_split\n",
      "from sklearn import metrics\n",
      "\n",
      "# shuffle order of rows\n",
      "X, y = shuffle(X, y, random_state=0)\n",
      "\n",
      "X_train, X_test, y_train, y_test = train_test_split(X, y, test_size=0.2, random_state=42)\n",
      "\n",
      "clf = lm.LogisticRegression()\n",
      "clf.fit(X_train,y_train)\n",
      "metrics.accuracy_score(y_test, clf.predict(X_test))\n"
     ],
     "language": "python",
     "metadata": {},
     "outputs": [
      {
       "metadata": {},
       "output_type": "pyout",
       "prompt_number": 56,
       "text": [
        "0.91304347826086951"
       ]
      }
     ],
     "prompt_number": 56
    },
    {
     "cell_type": "code",
     "collapsed": false,
     "input": [
      "target_names = [\"No Pill Taken\", \"Pill Taken\"]\n",
      "print metrics.classification_report(y_test, clf.predict(X_test), target_names=target_names)"
     ],
     "language": "python",
     "metadata": {},
     "outputs": [
      {
       "output_type": "stream",
       "stream": "stdout",
       "text": [
        "               precision    recall  f1-score   support\n",
        "\n",
        "No Pill Taken       0.91      0.91      0.91        11\n",
        "   Pill Taken       0.92      0.92      0.92        12\n",
        "\n",
        "  avg / total       0.91      0.91      0.91        23\n",
        "\n"
       ]
      }
     ],
     "prompt_number": 60
    },
    {
     "cell_type": "code",
     "collapsed": false,
     "input": [
      "import serial\n",
      "ser = serial.Serial('/dev/tty.usbmodem1411', 9600)\n",
      "\n",
      "\n",
      "window = 50\n",
      "windowList = []\n",
      "\n",
      "while True:\n",
      "    windowList.append(ser.readline().split()[1:])    # split sensor reading into a list and append list to windowList\n",
      "                                                     # first item in list is fsr_reading label [0,1] which is not needed\n",
      "    if len(windowList) >= 50:\n",
      "        sample = windowList[:50]    # take first 50 readings\n",
      "        del windowList[:25]         # delete first 25 readings\n",
      "        predict = clf.predict(feature_extract(sample))\n",
      "        print \"Prediction: \", predict\n",
      "        print \"Length of window list: \", len(windowList)\n",
      "    "
     ],
     "language": "python",
     "metadata": {},
     "outputs": []
    },
    {
     "cell_type": "code",
     "collapsed": false,
     "input": [
      "import pickle\n",
      "\n",
      "#pickle.dump(clf, open(\"LG_Classifier.p\", \"wb\"))\n",
      "clf = pickle.load(\"LG_Classifier.p\")"
     ],
     "language": "python",
     "metadata": {},
     "outputs": [],
     "prompt_number": 62
    },
    {
     "cell_type": "code",
     "collapsed": false,
     "input": [],
     "language": "python",
     "metadata": {},
     "outputs": []
    }
   ],
   "metadata": {}
  }
 ]
}