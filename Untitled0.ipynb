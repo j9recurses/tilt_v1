{
 "metadata": {
  "name": "",
  "signature": "sha256:8d2cea5dfff14477e979362e44ef48c8225ff58c07bebbe183ee972d1e56b4d6"
 },
 "nbformat": 3,
 "nbformat_minor": 0,
 "worksheets": [
  {
   "cells": [
    {
     "cell_type": "code",
     "collapsed": false,
     "input": [
      "#!/usr/bin/python\n",
      "\n",
      "import threading\n",
      "import time\n",
      "\n",
      "pilltaken  = False\n",
      "patientpush = False\n",
      "caretakerpush = False\n",
      "counterpill = 0\n",
      "\n",
      "def update_pill(threadName, delay):\n",
      "  if counterpill%5:\n",
      "      pilltaken = True\n",
      "      counterpill = counterpill +1\n",
      "      time.sleep(delay)\n",
      "      print threadName\n",
      "      \n",
      "\n",
      "def checkpillstatus(threadName, delay):\n",
      "  if pilltaken:\n",
      "    print \"Awesome the user took their meds\"\n",
      "    time.sleep(delay)\n",
      "    print threadName\n",
      "  else:\n",
      "    print \"user did not take meds\""
     ],
     "language": "python",
     "metadata": {},
     "outputs": [],
     "prompt_number": 4
    },
    {
     "cell_type": "code",
     "collapsed": false,
     "input": [
      "th = threading.Thread(target=checkpillstatus('thread_1', 2))\n",
      "th.daemon = True\n",
      "th.start()"
     ],
     "language": "python",
     "metadata": {},
     "outputs": [],
     "prompt_number": 2
    },
    {
     "cell_type": "code",
     "collapsed": false,
     "input": [],
     "language": "python",
     "metadata": {},
     "outputs": []
    }
   ],
   "metadata": {}
  }
 ]
}